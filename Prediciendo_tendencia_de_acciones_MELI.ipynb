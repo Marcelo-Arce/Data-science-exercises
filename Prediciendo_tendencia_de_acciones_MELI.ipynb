{
 "cells": [
  {
   "cell_type": "code",
   "execution_count": 1,
   "metadata": {},
   "outputs": [],
   "source": [
    "import pandas as pd\n",
    "from pandas_datareader import data as pdr\n",
    "import numpy as np\n",
    "import matplotlib.pyplot as plt\n",
    "from sklearn.preprocessing import MinMaxScaler\n",
    "import tensorflow as tf\n",
    "from keras.models import Sequential\n",
    "from keras.layers import Dense, LSTM, Dropout\n"
   ]
  },
  {
   "cell_type": "code",
   "execution_count": 2,
   "metadata": {},
   "outputs": [
    {
     "data": {
      "text/plain": [
       "High         1258\n",
       "Low          1258\n",
       "Open         1258\n",
       "Close        1258\n",
       "Volume       1258\n",
       "Adj Close    1258\n",
       "dtype: int64"
      ]
     },
     "execution_count": 2,
     "metadata": {},
     "output_type": "execute_result"
    }
   ],
   "source": [
    "datos = pdr.DataReader(\"MELI\",\"yahoo\",\"20150101\",\"20200101\")\n",
    "datos.count()\n"
   ]
  },
  {
   "cell_type": "code",
   "execution_count": 3,
   "metadata": {},
   "outputs": [],
   "source": [
    "set_train = datos.iloc[:, 1:2].values\n",
    "sc = MinMaxScaler(feature_range=(0, 1))\n",
    "\n",
    "set_train_sc = sc.fit_transform(set_train)\n",
    "x_train = []\n",
    "y_train = []\n",
    "\n",
    "for i in range(80, 1258):\n",
    "    x_train.append(set_train_sc[i-60: i, 0])\n",
    "    y_train.append(set_train_sc[i,0])\n"
   ]
  },
  {
   "cell_type": "code",
   "execution_count": 4,
   "metadata": {},
   "outputs": [],
   "source": [
    "x_train, y_train = np.array(x_train), np.array(y_train)\n",
    "\n",
    "#AGREGAMOS UNA DIMENSION A LA MATRIZ NUMPY CON RESHAPE, EN EL XTRAIN DONDE ESTAN LOS INPUTS\n",
    "x_train = np.reshape(x_train, (x_train.shape[0], x_train.shape[1],1))\n",
    "\n",
    "#Modelamos con Keras\n",
    "regresor = Sequential()\n",
    "\n",
    "#Agregamos capas imputs con LSTM, en este caso pondremos 50 celdas LSTM, un dropout del 20%\n",
    "regresor.add(LSTM(units=50, return_sequences=True, input_shape = (x_train.shape[1],1)))\n",
    "regresor.add(Dropout(0.2))\n",
    "\n",
    "#2da capa LSTM\n",
    "regresor.add(LSTM(units=50, return_sequences=True))\n",
    "regresor.add(Dropout(0.2))\n",
    "#3ra capa LSTM\n",
    "regresor.add(LSTM(units=50, return_sequences=True))\n",
    "regresor.add(Dropout(0.2))\n",
    "#4ta capa LSTM\n",
    "regresor.add(LSTM(units=50))\n",
    "regresor.add(Dropout(0.2))"
   ]
  },
  {
   "cell_type": "code",
   "execution_count": 5,
   "metadata": {},
   "outputs": [
    {
     "name": "stdout",
     "output_type": "stream",
     "text": [
      "Epoch 1/100\n",
      "37/37 [==============================] - 4s 107ms/step - loss: 0.0300\n",
      "Epoch 2/100\n",
      "37/37 [==============================] - 4s 105ms/step - loss: 0.0044\n",
      "Epoch 3/100\n",
      "37/37 [==============================] - 4s 99ms/step - loss: 0.0051\n",
      "Epoch 4/100\n",
      "37/37 [==============================] - 4s 99ms/step - loss: 0.0039\n",
      "Epoch 5/100\n",
      "37/37 [==============================] - 4s 102ms/step - loss: 0.0033\n",
      "Epoch 6/100\n",
      "37/37 [==============================] - 4s 100ms/step - loss: 0.0034\n",
      "Epoch 7/100\n",
      "37/37 [==============================] - 4s 98ms/step - loss: 0.0032\n",
      "Epoch 8/100\n",
      "37/37 [==============================] - 4s 99ms/step - loss: 0.0030\n",
      "Epoch 9/100\n",
      "37/37 [==============================] - 4s 100ms/step - loss: 0.0031\n",
      "Epoch 10/100\n",
      "37/37 [==============================] - 4s 101ms/step - loss: 0.0029\n",
      "Epoch 11/100\n",
      "37/37 [==============================] - 4s 99ms/step - loss: 0.0033\n",
      "Epoch 12/100\n",
      "37/37 [==============================] - 4s 99ms/step - loss: 0.0028\n",
      "Epoch 13/100\n",
      "37/37 [==============================] - 4s 102ms/step - loss: 0.0029\n",
      "Epoch 14/100\n",
      "37/37 [==============================] - 4s 102ms/step - loss: 0.0025\n",
      "Epoch 15/100\n",
      "37/37 [==============================] - 4s 99ms/step - loss: 0.0027\n",
      "Epoch 16/100\n",
      "37/37 [==============================] - 4s 99ms/step - loss: 0.0035\n",
      "Epoch 17/100\n",
      "37/37 [==============================] - 4s 99ms/step - loss: 0.0026\n",
      "Epoch 18/100\n",
      "37/37 [==============================] - 4s 102ms/step - loss: 0.0025\n",
      "Epoch 19/100\n",
      "37/37 [==============================] - 4s 99ms/step - loss: 0.0024\n",
      "Epoch 20/100\n",
      "37/37 [==============================] - 4s 98ms/step - loss: 0.0027\n",
      "Epoch 21/100\n",
      "37/37 [==============================] - 4s 98ms/step - loss: 0.0029\n",
      "Epoch 22/100\n",
      "37/37 [==============================] - 4s 103ms/step - loss: 0.0021\n",
      "Epoch 23/100\n",
      "37/37 [==============================] - 4s 98ms/step - loss: 0.0026\n",
      "Epoch 24/100\n",
      "37/37 [==============================] - 4s 97ms/step - loss: 0.0024\n",
      "Epoch 25/100\n",
      "37/37 [==============================] - 4s 98ms/step - loss: 0.0024\n",
      "Epoch 26/100\n",
      "37/37 [==============================] - 4s 100ms/step - loss: 0.0022\n",
      "Epoch 27/100\n",
      "37/37 [==============================] - 4s 103ms/step - loss: 0.0022\n",
      "Epoch 28/100\n",
      "37/37 [==============================] - 4s 99ms/step - loss: 0.0022\n",
      "Epoch 29/100\n",
      "37/37 [==============================] - 4s 98ms/step - loss: 0.0021\n",
      "Epoch 30/100\n",
      "37/37 [==============================] - 4s 102ms/step - loss: 0.0022\n",
      "Epoch 31/100\n",
      "37/37 [==============================] - 4s 104ms/step - loss: 0.0021\n",
      "Epoch 32/100\n",
      "37/37 [==============================] - 4s 104ms/step - loss: 0.0022\n",
      "Epoch 33/100\n",
      "37/37 [==============================] - 4s 98ms/step - loss: 0.0019\n",
      "Epoch 34/100\n",
      "37/37 [==============================] - 4s 100ms/step - loss: 0.0021\n",
      "Epoch 35/100\n",
      "37/37 [==============================] - 4s 102ms/step - loss: 0.0019\n",
      "Epoch 36/100\n",
      "37/37 [==============================] - 4s 100ms/step - loss: 0.0022\n",
      "Epoch 37/100\n",
      "37/37 [==============================] - 4s 98ms/step - loss: 0.0017\n",
      "Epoch 38/100\n",
      "37/37 [==============================] - 4s 98ms/step - loss: 0.0017\n",
      "Epoch 39/100\n",
      "37/37 [==============================] - 4s 103ms/step - loss: 0.0021\n",
      "Epoch 40/100\n",
      "37/37 [==============================] - 4s 98ms/step - loss: 0.0026\n",
      "Epoch 41/100\n",
      "37/37 [==============================] - 4s 98ms/step - loss: 0.0019\n",
      "Epoch 42/100\n",
      "37/37 [==============================] - ETA: 0s - loss: 0.001 - 4s 98ms/step - loss: 0.0016\n",
      "Epoch 43/100\n",
      "37/37 [==============================] - 4s 105ms/step - loss: 0.0018\n",
      "Epoch 44/100\n",
      "37/37 [==============================] - 4s 100ms/step - loss: 0.0017\n",
      "Epoch 45/100\n",
      "37/37 [==============================] - 4s 100ms/step - loss: 0.0016\n",
      "Epoch 46/100\n",
      "37/37 [==============================] - 4s 99ms/step - loss: 0.0017\n",
      "Epoch 47/100\n",
      "37/37 [==============================] - 4s 102ms/step - loss: 0.0018\n",
      "Epoch 48/100\n",
      "37/37 [==============================] - 4s 102ms/step - loss: 0.0020\n",
      "Epoch 49/100\n",
      "37/37 [==============================] - 4s 100ms/step - loss: 0.0018\n",
      "Epoch 50/100\n",
      "37/37 [==============================] - 4s 100ms/step - loss: 0.0017\n",
      "Epoch 51/100\n",
      "37/37 [==============================] - 4s 103ms/step - loss: 0.0016\n",
      "Epoch 52/100\n",
      "37/37 [==============================] - 4s 102ms/step - loss: 0.0015\n",
      "Epoch 53/100\n",
      "37/37 [==============================] - 4s 102ms/step - loss: 0.0015\n",
      "Epoch 54/100\n",
      "37/37 [==============================] - 4s 106ms/step - loss: 0.0017\n",
      "Epoch 55/100\n",
      "37/37 [==============================] - 4s 111ms/step - loss: 0.0016\n",
      "Epoch 56/100\n",
      "37/37 [==============================] - 4s 107ms/step - loss: 0.0016\n",
      "Epoch 57/100\n",
      "37/37 [==============================] - 4s 96ms/step - loss: 0.0015\n",
      "Epoch 58/100\n",
      "37/37 [==============================] - 3s 93ms/step - loss: 0.0016\n",
      "Epoch 59/100\n",
      "37/37 [==============================] - 4s 108ms/step - loss: 0.0016\n",
      "Epoch 60/100\n",
      "37/37 [==============================] - 4s 101ms/step - loss: 0.0014\n",
      "Epoch 61/100\n",
      "37/37 [==============================] - 4s 99ms/step - loss: 0.0016\n",
      "Epoch 62/100\n",
      "37/37 [==============================] - 4s 105ms/step - loss: 0.0014\n",
      "Epoch 63/100\n",
      "37/37 [==============================] - 4s 106ms/step - loss: 0.0016\n",
      "Epoch 64/100\n",
      "37/37 [==============================] - 4s 102ms/step - loss: 0.0016\n",
      "Epoch 65/100\n",
      "37/37 [==============================] - 4s 106ms/step - loss: 0.0018\n",
      "Epoch 66/100\n",
      "37/37 [==============================] - 4s 111ms/step - loss: 0.0013\n",
      "Epoch 67/100\n",
      "37/37 [==============================] - 4s 117ms/step - loss: 0.0018\n",
      "Epoch 68/100\n",
      "37/37 [==============================] - 4s 114ms/step - loss: 0.0014\n",
      "Epoch 69/100\n",
      "37/37 [==============================] - 4s 118ms/step - loss: 0.0014\n",
      "Epoch 70/100\n",
      "37/37 [==============================] - 4s 108ms/step - loss: 0.0014\n",
      "Epoch 71/100\n",
      "37/37 [==============================] - 5s 141ms/step - loss: 0.0015\n",
      "Epoch 72/100\n",
      "37/37 [==============================] - 4s 109ms/step - loss: 0.0016\n",
      "Epoch 73/100\n",
      "37/37 [==============================] - 4s 103ms/step - loss: 0.0015\n",
      "Epoch 74/100\n",
      "37/37 [==============================] - 4s 117ms/step - loss: 0.0014\n",
      "Epoch 75/100\n",
      "37/37 [==============================] - 4s 107ms/step - loss: 0.0014\n",
      "Epoch 76/100\n",
      "37/37 [==============================] - 4s 103ms/step - loss: 0.0013\n",
      "Epoch 77/100\n",
      "37/37 [==============================] - 4s 102ms/step - loss: 0.0013\n",
      "Epoch 78/100\n",
      "37/37 [==============================] - 4s 103ms/step - loss: 0.0011\n",
      "Epoch 79/100\n",
      "37/37 [==============================] - 5s 123ms/step - loss: 0.0014\n",
      "Epoch 80/100\n",
      "37/37 [==============================] - 4s 101ms/step - loss: 0.0012\n",
      "Epoch 81/100\n",
      "37/37 [==============================] - 4s 112ms/step - loss: 0.0013\n",
      "Epoch 82/100\n",
      "37/37 [==============================] - 4s 111ms/step - loss: 0.0013\n",
      "Epoch 83/100\n",
      "37/37 [==============================] - 4s 105ms/step - loss: 0.0016\n",
      "Epoch 84/100\n",
      "37/37 [==============================] - 4s 103ms/step - loss: 0.0013\n",
      "Epoch 85/100\n",
      "37/37 [==============================] - 4s 97ms/step - loss: 0.0012\n",
      "Epoch 86/100\n",
      "37/37 [==============================] - 4s 97ms/step - loss: 0.0011\n",
      "Epoch 87/100\n",
      "37/37 [==============================] - 4s 102ms/step - loss: 0.0012\n",
      "Epoch 88/100\n",
      "37/37 [==============================] - 4s 104ms/step - loss: 0.0013\n",
      "Epoch 89/100\n",
      "37/37 [==============================] - 4s 102ms/step - loss: 0.0012\n",
      "Epoch 90/100\n",
      "37/37 [==============================] - 4s 97ms/step - loss: 0.0014\n",
      "Epoch 91/100\n",
      "37/37 [==============================] - 4s 102ms/step - loss: 0.0012\n",
      "Epoch 92/100\n",
      "37/37 [==============================] - 4s 97ms/step - loss: 0.0014\n",
      "Epoch 93/100\n",
      "37/37 [==============================] - 4s 96ms/step - loss: 0.0014\n",
      "Epoch 94/100\n",
      "37/37 [==============================] - 4s 96ms/step - loss: 0.0013\n",
      "Epoch 95/100\n",
      "37/37 [==============================] - 4s 102ms/step - loss: 0.0012\n",
      "Epoch 96/100\n",
      "37/37 [==============================] - 4s 98ms/step - loss: 0.0011\n",
      "Epoch 97/100\n",
      "37/37 [==============================] - 4s 97ms/step - loss: 0.0012\n",
      "Epoch 98/100\n",
      "37/37 [==============================] - 4s 96ms/step - loss: 0.0012\n",
      "Epoch 99/100\n",
      "37/37 [==============================] - 4s 100ms/step - loss: 0.0013\n"
     ]
    },
    {
     "name": "stdout",
     "output_type": "stream",
     "text": [
      "Epoch 100/100\n",
      "37/37 [==============================] - 4s 100ms/step - loss: 0.0011\n"
     ]
    },
    {
     "data": {
      "text/plain": [
       "<tensorflow.python.keras.callbacks.History at 0x1c08b13e080>"
      ]
     },
     "execution_count": 5,
     "metadata": {},
     "output_type": "execute_result"
    }
   ],
   "source": [
    "#CREAMOS LA CAPA OUTPUT con Dense\n",
    "regresor.add(Dense(units=1))\n",
    "#USAREMOS el optimizador RSMPROP que es recomendable para redes neuronales recurrentes. Y ADAM\n",
    "regresor.compile(optimizer='adam', loss='mean_squared_error')\n",
    "#Con esto ya se tiene compilado, ahora pasaremos a entrenar el modelo\n",
    "regresor.fit(x_train, y_train, epochs=100, batch_size=32)"
   ]
  },
  {
   "cell_type": "code",
   "execution_count": 6,
   "metadata": {},
   "outputs": [
    {
     "data": {
      "text/plain": [
       "High         21\n",
       "Low          21\n",
       "Open         21\n",
       "Close        21\n",
       "Volume       21\n",
       "Adj Close    21\n",
       "dtype: int64"
      ]
     },
     "execution_count": 6,
     "metadata": {},
     "output_type": "execute_result"
    }
   ],
   "source": [
    "datos_test = pdr.DataReader(\"MELI\",\"yahoo\",\"20200101\",\"20200202\")\n",
    "datos_test.count()"
   ]
  },
  {
   "cell_type": "code",
   "execution_count": 7,
   "metadata": {},
   "outputs": [],
   "source": [
    "set_test = datos_test.iloc[:, 1:2].values\n",
    "#Hacemos la concatenación de los datos train con los test con un axis 0 porque deseamos trabajar con la columna(0=columna 1=fila)\n",
    "datos_total = pd.concat((datos['Open'], datos_test['Open']),axis=0)\n",
    "inputs = datos_total[len(datos_total) - len(datos_test) - 60:].values\n",
    "inputs = inputs.reshape(-1, 1)\n",
    "inputs = sc.transform(inputs)"
   ]
  },
  {
   "cell_type": "code",
   "execution_count": 8,
   "metadata": {},
   "outputs": [],
   "source": [
    "#Le damos la dimension extra\n",
    "x_test = []\n",
    "for i in range(60, 80):\n",
    "    x_test.append(inputs[i-60: i, 0])\n",
    "x_test = np.array(x_test)\n",
    "x_test = np.reshape(x_test, (x_test.shape[0], x_test.shape[1],1))\n",
    "\n",
    "#hacemos la predicción\n",
    "prediccion_precio = regresor.predict(x_test)\n",
    "prediccion_precio = sc.inverse_transform(prediccion_precio)\n"
   ]
  },
  {
   "cell_type": "code",
   "execution_count": 9,
   "metadata": {},
   "outputs": [
    {
     "data": {
      "image/png": "[encoded data removed]",
      "text/plain": [
       "<Figure size 432x288 with 1 Axes>"
      ]
     },
     "metadata": {
      "needs_background": "light"
     },
     "output_type": "display_data"
    }
   ],
   "source": [
    "#Visualizamos resultados\n",
    "plt.plot(set_test, color='red', label='Precio real')\n",
    "plt.plot(prediccion_precio, color='green', label= 'Precio predecido')\n",
    "plt.title('Prediccion para Facebook en la bolsa para el año 2020')\n",
    "plt.xlabel('Tiempo')\n",
    "plt.ylabel('Precio')\n",
    "plt.legend()\n",
    "plt.show()"
   ]
  },
  {
   "cell_type": "code",
   "execution_count": null,
   "metadata": {},
   "outputs": [],
   "source": []
  },
  {
   "cell_type": "code",
   "execution_count": null,
   "metadata": {},
   "outputs": [],
   "source": []
  }
 ],
 "metadata": {
  "kernelspec": {
   "display_name": "Python 3",
   "language": "python",
   "name": "python3"
  },
  "language_info": {
   "codemirror_mode": {
    "name": "ipython",
    "version": 3
   },
   "file_extension": ".py",
   "mimetype": "text/x-python",
   "name": "python",
   "nbconvert_exporter": "python",
   "pygments_lexer": "ipython3",
   "version": "3.6.12"
  }
 },
 "nbformat": 4,
 "nbformat_minor": 4
}
