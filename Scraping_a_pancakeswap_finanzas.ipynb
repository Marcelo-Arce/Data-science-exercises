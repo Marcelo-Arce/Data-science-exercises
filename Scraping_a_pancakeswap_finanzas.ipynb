{
 "cells": [
  {
   "cell_type": "code",
   "execution_count": 114,
   "metadata": {},
   "outputs": [],
   "source": [
    "\n",
    "import requests\n",
    "import pandas as pd\n",
    "from bs4 import BeautifulSoup"
   ]
  },
  {
   "cell_type": "code",
   "execution_count": 115,
   "metadata": {},
   "outputs": [],
   "source": [
    "url = 'https://pancakeswap.finance/farms'\n",
    "page = requests.get(url)\n",
    "soup = BeautifulSoup(page.content, 'html.parser')\n"
   ]
  },
  {
   "cell_type": "code",
   "execution_count": 116,
   "metadata": {},
   "outputs": [
    {
     "name": "stdout",
     "output_type": "stream",
     "text": [
      "[]\n"
     ]
    }
   ],
   "source": [
    "#Cryptos\n",
    "\n",
    "crypto = soup.find_all('id', class_ ='sc-pRPz gWBqBG')\n",
    "\n",
    "print(crypto)"
   ]
  },
  {
   "cell_type": "code",
   "execution_count": 117,
   "metadata": {},
   "outputs": [],
   "source": [
    "#Usamos Selenium dado que requiere Javascript"
   ]
  },
  {
   "cell_type": "code",
   "execution_count": 118,
   "metadata": {},
   "outputs": [],
   "source": [
    "from selenium import webdriver"
   ]
  },
  {
   "cell_type": "code",
   "execution_count": 119,
   "metadata": {},
   "outputs": [],
   "source": [
    "from webdriver_manager.chrome import ChromeDriverManager"
   ]
  },
  {
   "cell_type": "code",
   "execution_count": 120,
   "metadata": {
    "scrolled": true
   },
   "outputs": [
    {
     "name": "stderr",
     "output_type": "stream",
     "text": [
      "[WDM] - \n",
      "\n",
      "[WDM] - ====== WebDriver manager ======\n",
      "[WDM] - Current google-chrome version is 95.0.4638\n",
      "[WDM] - Get LATEST driver version for 95.0.4638\n",
      "[WDM] - Driver [C:\\Users\\Sys10\\.wdm\\drivers\\chromedriver\\win32\\95.0.4638.54\\chromedriver.exe] found in cache\n"
     ]
    }
   ],
   "source": [
    "driver = webdriver.Chrome(ChromeDriverManager().install())"
   ]
  },
  {
   "cell_type": "code",
   "execution_count": 122,
   "metadata": {
    "scrolled": true
   },
   "outputs": [],
   "source": [
    "driver.get(url)"
   ]
  },
  {
   "cell_type": "code",
   "execution_count": null,
   "metadata": {},
   "outputs": [],
   "source": []
  },
  {
   "cell_type": "code",
   "execution_count": null,
   "metadata": {
    "scrolled": true
   },
   "outputs": [],
   "source": []
  },
  {
   "cell_type": "code",
   "execution_count": null,
   "metadata": {},
   "outputs": [],
   "source": []
  },
  {
   "cell_type": "code",
   "execution_count": 123,
   "metadata": {},
   "outputs": [
    {
     "data": {
      "text/plain": [
       "'CAKE-BNB'"
      ]
     },
     "execution_count": 123,
     "metadata": {},
     "output_type": "execute_result"
    }
   ],
   "source": [
    "#Nombre_de_cripto\n",
    "names_cripto = cripto.find_elements_by_xpath('//tr[@class = \"sc-ffgBur julKa-D\"]')\n",
    " \n",
    "name_cripto = names_cripto[0]\n",
    "name_cripto.find_element_by_xpath('.//div[@class = \"sc-gtsrHT jDnmwq\"]').text\n"
   ]
  },
  {
   "cell_type": "code",
   "execution_count": 124,
   "metadata": {},
   "outputs": [
    {
     "data": {
      "text/plain": [
       "'41.09%'"
      ]
     },
     "execution_count": 124,
     "metadata": {},
     "output_type": "execute_result"
    }
   ],
   "source": [
    "#APR\n",
    "name_cripto.find_element_by_xpath('.//div[@class = \"sc-jSFjdj sc-gKAaRy sc-hRLfyG kJmatq togOu cngnWq\"]').text\n"
   ]
  },
  {
   "cell_type": "code",
   "execution_count": 125,
   "metadata": {},
   "outputs": [
    {
     "data": {
      "text/plain": [
       "'$544.710.973'"
      ]
     },
     "execution_count": 125,
     "metadata": {},
     "output_type": "execute_result"
    }
   ],
   "source": [
    "#Liquidez\n",
    "name_cripto.find_element_by_xpath('.//div[@class = \"sc-kQfVtO dMRmaO\"]').text\n"
   ]
  },
  {
   "cell_type": "code",
   "execution_count": 126,
   "metadata": {},
   "outputs": [
    {
     "name": "stdout",
     "output_type": "stream",
     "text": [
      "{'Nombre': 'CAKE-BNB', 'APR': '41.09%', 'Liquidez': '$544.710.973'}\n",
      "{'Nombre': 'BUSD-BNB', 'APR': '28.94%', 'Liquidez': '$456.346.353'}\n",
      "{'Nombre': 'BMON-BNB', 'APR': '117.96%', 'Liquidez': '$2.646.231'}\n",
      "{'Nombre': 'DKT-BNB', 'APR': '171.8%', 'Liquidez': '$3.030.590'}\n",
      "{'Nombre': 'RUSD-BUSD', 'APR': '37.08%', 'Liquidez': '$9.409.933'}\n",
      "{'Nombre': 'LAZIO-BNB', 'APR': '173.49%', 'Liquidez': '$4.107.608'}\n",
      "{'Nombre': 'SPS-BNB', 'APR': '96.72%', 'Liquidez': '$6.832.057'}\n",
      "{'Nombre': 'MCB-BNB', 'APR': '63.2%', 'Liquidez': '$5.518.109'}\n",
      "{'Nombre': 'RPG-BUSD', 'APR': '100.66%', 'Liquidez': '$2.781.214'}\n",
      "{'Nombre': 'BETA-BNB', 'APR': '66.66%', 'Liquidez': '$10.109.194'}\n",
      "{'Nombre': 'NFT-BNB', 'APR': '44.74%', 'Liquidez': '$6.281.682'}\n",
      "{'Nombre': 'CHESS-USDC', 'APR': '276.47%', 'Liquidez': '$4.538.557'}\n",
      "{'Nombre': 'TLOS-BNB', 'APR': '81.16%', 'Liquidez': '$3.649.720'}\n",
      "{'Nombre': 'HERO-BNB', 'APR': '100.62%', 'Liquidez': '$2.946.516'}\n",
      "{'Nombre': 'BP-BNB', 'APR': '89.21%', 'Liquidez': '$3.297.752'}\n",
      "{'Nombre': 'QBT-BNB', 'APR': '82.41%', 'Liquidez': '$8.377.943'}\n",
      "{'Nombre': 'RAMP-BUSD', 'APR': '50.22%', 'Liquidez': '$6.121.485'}\n",
      "{'Nombre': 'POTS-BUSD', 'APR': '50.23%', 'Liquidez': '$1.407.162'}\n",
      "{'Nombre': 'TUSD-BUSD', 'APR': '7.77%', 'Liquidez': '$77.573.930'}\n",
      "{'Nombre': 'BTT-BUSD', 'APR': '11.94%', 'Liquidez': '$30.963.773'}\n",
      "{'Nombre': 'TRX-BUSD', 'APR': '12.18%', 'Liquidez': '$28.735.040'}\n",
      "{'Nombre': 'WIN-BUSD', 'APR': '24.39%', 'Liquidez': '$14.180.272'}\n",
      "{'Nombre': 'C98-BNB', 'APR': '35.64%', 'Liquidez': '$11.238.717'}\n",
      "{'Nombre': 'AXS-BNB', 'APR': '46.92%', 'Liquidez': '$7.355.638'}\n",
      "{'Nombre': 'PMON-BUSD', 'APR': '35.43%', 'Liquidez': '$2.554.455'}\n",
      "{'Nombre': 'ONE-BNB', 'APR': '50.21%', 'Liquidez': '$6.809.186'}\n",
      "{'Nombre': 'MASK-BNB', 'APR': '34.91%', 'Liquidez': '$3.826.598'}\n",
      "{'Nombre': 'USDC-USDT', 'APR': '11.55%', 'Liquidez': '$84.679.295'}\n",
      "{'Nombre': 'CAKE-USDT', 'APR': '37.11%', 'Liquidez': '$38.275.439'}\n",
      "{'Nombre': 'BSCPAD-BNB', 'APR': '63.55%', 'Liquidez': '$5.113.442'}\n",
      "{'Nombre': 'WOO-BNB', 'APR': '21.15%', 'Liquidez': '$4.475.339'}\n",
      "{'Nombre': 'O3-BUSD', 'APR': '77.68%', 'Liquidez': '$872.459'}\n",
      "{'Nombre': 'ETH-USDC', 'APR': '14.22%', 'Liquidez': '$64.038.343'}\n",
      "{'Nombre': 'BTCB-ETH', 'APR': '5.52%', 'Liquidez': '$140.201.484'}\n",
      "{'Nombre': 'MBOX-BNB', 'APR': '10.2%', 'Liquidez': '$94.918.323'}\n",
      "{'Nombre': 'CHR-BUSD', 'APR': '65.82%', 'Liquidez': '$4.552.211'}\n",
      "{'Nombre': 'CAKE-BUSD', 'APR': '42.96%', 'Liquidez': '$48.952.076'}\n",
      "{'Nombre': 'HOTCROSS-BNB', 'APR': '45.21%', 'Liquidez': '$1.341.952'}\n",
      "{'Nombre': 'DOGE-BNB', 'APR': '19.06%', 'Liquidez': '$31.224.522'}\n",
      "{'Nombre': 'BTCB-BUSD', 'APR': '16.06%', 'Liquidez': '$134.416.651'}\n",
      "{'Nombre': 'ALPACA-BUSD', 'APR': '19.43%', 'Liquidez': '$34.124.339'}\n",
      "{'Nombre': 'TLM-BNB', 'APR': '20.14%', 'Liquidez': '$5.780.415'}\n",
      "{'Nombre': 'EPS-BNB', 'APR': '70.13%', 'Liquidez': '$4.646.985'}\n",
      "{'Nombre': 'ITAM-BNB', 'APR': '60.94%', 'Liquidez': '$4.727.943'}\n",
      "{'Nombre': 'TKO-BNB', 'APR': '9.84%', 'Liquidez': '$10.387.416'}\n",
      "{'Nombre': 'BIFI-BNB', 'APR': '32.83%', 'Liquidez': '$2.383.534'}\n",
      "{'Nombre': 'BUNNY-BNB', 'APR': '54.65%', 'Liquidez': '$5.790.917'}\n",
      "{'Nombre': 'ALICE-BNB', 'APR': '19.17%', 'Liquidez': '$17.967.081'}\n"
     ]
    }
   ],
   "source": [
    "#Funciones\n",
    "info_cripto = []\n",
    "for name_cripto in names_cripto:\n",
    "    Nombre = name_cripto.find_element_by_xpath('.//div[@class = \"sc-gtsrHT jDnmwq\"]').text\n",
    "    APR = name_cripto.find_element_by_xpath('.//div[@class = \"sc-jSFjdj sc-gKAaRy sc-hRLfyG kJmatq togOu cngnWq\"]').text\n",
    "    Liquidez = name_cripto.find_element_by_xpath('.//div[@class = \"sc-kQfVtO dMRmaO\"]').text\n",
    "    data_dict = { 'Nombre': Nombre, \n",
    "                 'APR' : APR,\n",
    "                 'Liquidez': Liquidez\n",
    "        \n",
    "    }\n",
    "    print(data_dict)\n",
    "    info_cripto.append(data_dict)\n",
    "    "
   ]
  },
  {
   "cell_type": "code",
   "execution_count": null,
   "metadata": {},
   "outputs": [],
   "source": []
  },
  {
   "cell_type": "code",
   "execution_count": null,
   "metadata": {},
   "outputs": [],
   "source": []
  },
  {
   "cell_type": "code",
   "execution_count": null,
   "metadata": {},
   "outputs": [],
   "source": []
  }
 ],
 "metadata": {
  "kernelspec": {
   "display_name": "Python 3",
   "language": "python",
   "name": "python3"
  },
  "language_info": {
   "codemirror_mode": {
    "name": "ipython",
    "version": 3
   },
   "file_extension": ".py",
   "mimetype": "text/x-python",
   "name": "python",
   "nbconvert_exporter": "python",
   "pygments_lexer": "ipython3",
   "version": "3.8.3"
  }
 },
 "nbformat": 4,
 "nbformat_minor": 4
}
